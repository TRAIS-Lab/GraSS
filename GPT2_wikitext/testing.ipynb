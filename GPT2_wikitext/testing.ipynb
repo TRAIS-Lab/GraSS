{
	"cells": [
		{
			"cell_type": "code",
			"execution_count": 1,
			"metadata": {},
			"outputs": [],
			"source": [
				"import os\n",
				"import torch\n",
				"import matplotlib.pyplot as plt\n",
				"import numpy as np\n",
				"import re\n",
				"from scipy.stats import spearmanr\n",
				"import csv\n",
				"\n",
				"import warnings\n",
				"warnings.filterwarnings(\"ignore\")\n",
				"import _logix"
			]
		},
		{
			"cell_type": "code",
			"execution_count": null,
			"metadata": {},
			"outputs": [],
			"source": [
				"grad = torch.load(\"grad.pt\", weights_only=False)\n",
				"grad_cov = torch.load(\"cov_grad.pt\", weights_only=False)\n",
				"grad_cov_inv = torch.load(\"cov_inverse.pt\", weights_only=False)\n",
				"\n",
				"\n",
				"my_grad = torch.load(\"my_grad.pt\", weights_only=False)\n",
				"my_grad_cov = torch.load(\"my_grad_covariance.pt\", weights_only=False)\n",
				"my_cov_inverse = torch.load(\"my_cov_inverse.pt\", weights_only=False)"
			]
		},
		{
			"cell_type": "code",
			"execution_count": 7,
			"metadata": {},
			"outputs": [
				{
					"name": "stdout",
					"output_type": "stream",
					"text": [
						"tensor([[ 0.0051, -0.0026,  0.0014,  ...,  0.0011,  0.0007,  0.0015],\n",
						"        [-0.0014,  0.0007, -0.0008,  ..., -0.0047,  0.0018, -0.0048],\n",
						"        [ 0.0098, -0.0038,  0.0033,  ...,  0.0006,  0.0005,  0.0007],\n",
						"        [-0.0046,  0.0013, -0.0015,  ..., -0.0086,  0.0020, -0.0070]],\n",
						"       device='cuda:0')\n"
					]
				}
			],
			"source": [
				"print(grad['lm_head.logix_lora_B']['grad'])"
			]
		},
		{
			"cell_type": "code",
			"execution_count": 8,
			"metadata": {},
			"outputs": [
				{
					"name": "stdout",
					"output_type": "stream",
					"text": [
						"tensor([[ 0.0051, -0.0026,  0.0014,  ...,  0.0011,  0.0007,  0.0015],\n",
						"        [-0.0014,  0.0007, -0.0008,  ..., -0.0047,  0.0018, -0.0048],\n",
						"        [ 0.0098, -0.0038,  0.0033,  ...,  0.0006,  0.0005,  0.0007],\n",
						"        [-0.0046,  0.0013, -0.0015,  ..., -0.0086,  0.0020, -0.0070]])\n"
					]
				}
			],
			"source": [
				"print(my_grad['lm_head'][0])"
			]
		},
		{
			"cell_type": "code",
			"execution_count": 5,
			"metadata": {},
			"outputs": [
				{
					"name": "stdout",
					"output_type": "stream",
					"text": [
						"tensor([[ 6.8121e-06, -2.1162e-06,  2.6578e-06,  ...,  2.0718e-06,\n",
						"         -7.6377e-07,  1.5839e-06],\n",
						"        [-2.1162e-06,  7.7293e-07, -7.4684e-07,  ..., -3.9882e-07,\n",
						"          1.2720e-07, -2.1467e-07],\n",
						"        [ 2.6578e-06, -7.4684e-07,  1.1908e-06,  ...,  1.1133e-06,\n",
						"         -4.1519e-07,  8.8285e-07],\n",
						"        ...,\n",
						"        [ 2.0718e-06, -3.9882e-07,  1.1133e-06,  ...,  1.9989e-06,\n",
						"         -7.9683e-07,  1.8093e-06],\n",
						"        [-7.6377e-07,  1.2720e-07, -4.1519e-07,  ..., -7.9683e-07,\n",
						"          4.3374e-07, -8.1526e-07],\n",
						"        [ 1.5839e-06, -2.1467e-07,  8.8285e-07,  ...,  1.8093e-06,\n",
						"         -8.1526e-07,  1.7788e-06]])\n"
					]
				}
			],
			"source": [
				"print(my_grad_cov['lm_head']['grad'])"
			]
		},
		{
			"cell_type": "code",
			"execution_count": 6,
			"metadata": {},
			"outputs": [
				{
					"name": "stdout",
					"output_type": "stream",
					"text": [
						"tensor([[ 6.8120e-06, -2.1162e-06,  2.6577e-06,  ...,  2.0718e-06,\n",
						"         -7.6377e-07,  1.5839e-06],\n",
						"        [-2.1162e-06,  7.7293e-07, -7.4684e-07,  ..., -3.9882e-07,\n",
						"          1.2720e-07, -2.1467e-07],\n",
						"        [ 2.6577e-06, -7.4684e-07,  1.1908e-06,  ...,  1.1133e-06,\n",
						"         -4.1519e-07,  8.8285e-07],\n",
						"        ...,\n",
						"        [ 2.0718e-06, -3.9882e-07,  1.1133e-06,  ...,  1.9989e-06,\n",
						"         -7.9683e-07,  1.8093e-06],\n",
						"        [-7.6377e-07,  1.2720e-07, -4.1519e-07,  ..., -7.9683e-07,\n",
						"          4.3374e-07, -8.1526e-07],\n",
						"        [ 1.5839e-06, -2.1467e-07,  8.8285e-07,  ...,  1.8093e-06,\n",
						"         -8.1526e-07,  1.7788e-06]], device='cuda:0')\n"
					]
				}
			],
			"source": [
				"print(grad_cov['lm_head.logix_lora_B']['grad'])"
			]
		},
		{
			"cell_type": "code",
			"execution_count": null,
			"metadata": {},
			"outputs": [],
			"source": []
		}
	],
	"metadata": {
		"kernelspec": {
			"display_name": "IF",
			"language": "python",
			"name": "python3"
		},
		"language_info": {
			"codemirror_mode": {
				"name": "ipython",
				"version": 3
			},
			"file_extension": ".py",
			"mimetype": "text/x-python",
			"name": "python",
			"nbconvert_exporter": "python",
			"pygments_lexer": "ipython3",
			"version": "3.10.16"
		}
	},
	"nbformat": 4,
	"nbformat_minor": 2
}
