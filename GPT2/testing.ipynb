{
	"cells": [
		{
			"cell_type": "code",
			"execution_count": 1,
			"metadata": {},
			"outputs": [],
			"source": [
				"import os\n",
				"import torch\n",
				"import matplotlib.pyplot as plt\n",
				"import numpy as np\n",
				"import re\n",
				"from scipy.stats import spearmanr\n",
				"import csv\n",
				"\n",
				"import warnings\n",
				"warnings.filterwarnings(\"ignore\")"
			]
		},
		{
			"cell_type": "code",
			"execution_count": 2,
			"metadata": {},
			"outputs": [],
			"source": [
				"# setting = \"wd=0.01_lr=3e-5\"\n",
				"setting = \"wd=0.0_lr=5e-5\""
			]
		},
		{
			"cell_type": "code",
			"execution_count": 5,
			"metadata": {},
			"outputs": [
				{
					"name": "stdout",
					"output_type": "stream",
					"text": [
						"{'projection': 83.05920958518982, 'gradient': 136.68024682998657, 'hessian': 22.552314281463623, 'inverse_hessian': 15.064489364624023}\n",
						"tensor([[  72.7343, -123.6624,  -31.7277,  ...,  167.1384,  -36.7731,\n",
						"         -183.7464],\n",
						"        [-113.3401,  113.1658,  128.8549,  ...,   35.6288,  160.8482,\n",
						"           10.7976],\n",
						"        [ 111.6066,  309.4640,   61.0273,  ...,  -72.9132,   13.6338,\n",
						"          145.4602],\n",
						"        ...,\n",
						"        [ 271.4454,   39.2268,   43.2614,  ...,   60.1536,   86.6858,\n",
						"         -132.5101],\n",
						"        [ 242.7752,   58.5168,   49.8840,  ...,  220.3853,  149.6035,\n",
						"          -22.6613],\n",
						"        [  27.1471,   31.0507,  286.8348,  ...,  -84.1284,   23.2444,\n",
						"         -368.3138]])\n",
						"score shape: torch.Size([4656, 481])\n",
						"50 torch.Size([481])\n",
						"50 torch.Size([481])\n",
						"481\n",
						"0.16514835899839014\n"
					]
				}
			],
			"source": [
				"def read_nodes(file_path):\n",
				"    int_list = []\n",
				"    with open(file_path, 'r') as csvfile:\n",
				"        csv_reader = csv.reader(csvfile)\n",
				"        for row in csv_reader:\n",
				"            for item in row:\n",
				"                try:\n",
				"                    int_list.append(int(item))\n",
				"                except ValueError:\n",
				"                    print(f\"Warning: '{item}' could not be converted to an integer and was skipped.\")\n",
				"    return int_list\n",
				"\n",
				"\n",
				"\n",
				"def calculate_one(path):\n",
				"    # score = torch.load(path, map_location=torch.device('cpu'))  # _test_0225_regroup\n",
				"    score = torch.load(path, map_location=torch.device('cpu'))\n",
				"    print(score)\n",
				"    # score = torch.rand(5000, 500)\n",
				"    print(\"score shape:\", score.shape)\n",
				"\n",
				"    nodes_str = [f\"./checkpoints/{setting}/{i}/train_index.csv\" for i in range(50)]\n",
				"    # for i in range(50):\n",
				"    #     nodes_str.append(f\"./checkpoints/{i}/train_index.csv\")\n",
				"\n",
				"    full_nodes = [i for i in range(4656)]\n",
				"\n",
				"    node_list = []\n",
				"    for node_str in nodes_str:\n",
				"        numbers = read_nodes(node_str)\n",
				"        index = []\n",
				"        for number in numbers:\n",
				"            index.append(full_nodes.index(number))\n",
				"        node_list.append(index)\n",
				"\n",
				"    loss_list = torch.load(f\"./results/{setting}/gt.pt\", map_location=torch.device('cpu')).detach()\n",
				"\n",
				"    approx_output = []\n",
				"    for i in range(len(nodes_str)):\n",
				"        score_approx_0 = score[node_list[i], :]\n",
				"        sum_0 = torch.sum(score_approx_0, axis=0)\n",
				"        approx_output.append(sum_0)\n",
				"\n",
				"    print(len(loss_list), loss_list[0].shape)\n",
				"    print(len(approx_output), approx_output[0].shape)\n",
				"\n",
				"    res = 0\n",
				"    counter = 0\n",
				"    for i in range(481):\n",
				"        tmp = spearmanr(np.array([approx_output[k][i] for k in range(len(approx_output))]),\n",
				"                        np.array([loss_list[k][i].numpy() for k in range(len(loss_list))])).statistic\n",
				"        if np.isnan(tmp):\n",
				"            print(\"Numerical issue\")\n",
				"            continue\n",
				"        res += tmp\n",
				"        counter += 1\n",
				"\n",
				"    print(counter)\n",
				"\n",
				"    return res/counter, loss_list, approx_output\n",
				"\n",
				"path = f\"results/{setting}/IF/Linear_LayerNorm/default_SJLT_R-64(U)_thrd-0.0_randrop-0.2.pt\"\n",
				"print(torch.load(f\"results/{setting}/IF/Linear_LayerNorm/default_SJLT_R-64(U)_thrd-0.0_randrop-0.2_profile.pt\"))\n",
				"print(calculate_one(path)[0])"
			]
		},
		{
			"cell_type": "code",
			"execution_count": null,
			"metadata": {},
			"outputs": [],
			"source": []
		}
	],
	"metadata": {
		"kernelspec": {
			"display_name": "IF",
			"language": "python",
			"name": "python3"
		},
		"language_info": {
			"codemirror_mode": {
				"name": "ipython",
				"version": 3
			},
			"file_extension": ".py",
			"mimetype": "text/x-python",
			"name": "python",
			"nbconvert_exporter": "python",
			"pygments_lexer": "ipython3",
			"version": "3.10.14"
		}
	},
	"nbformat": 4,
	"nbformat_minor": 2
}
