{
	"cells": [
		{
			"cell_type": "code",
			"execution_count": 1,
			"metadata": {},
			"outputs": [],
			"source": [
				"import os\n",
				"import torch\n",
				"import matplotlib.pyplot as plt\n",
				"import numpy as np\n",
				"import re\n",
				"from scipy.stats import spearmanr\n",
				"import csv\n",
				"\n",
				"import warnings\n",
				"warnings.filterwarnings(\"ignore\")"
			]
		},
		{
			"cell_type": "code",
			"execution_count": 2,
			"metadata": {},
			"outputs": [],
			"source": [
				"# setting = \"wd=0.01_lr=3e-5\"\n",
				"setting = \"wd=0.0_lr=5e-5\""
			]
		},
		{
			"cell_type": "code",
			"execution_count": 3,
			"metadata": {},
			"outputs": [
				{
					"name": "stdout",
					"output_type": "stream",
					"text": [
						"tensor([[-1.5449e+02, -1.4994e+02, -3.6882e+02,  ...,  2.3526e+02,\n",
						"         -2.5612e+02, -1.1065e+04],\n",
						"        [-5.2611e+01,  3.2672e+02, -4.8657e+02,  ...,  7.9459e+02,\n",
						"          2.9331e+02, -3.3699e+01],\n",
						"        [-9.9731e+01,  3.7158e+02, -1.7222e+02,  ..., -1.9625e+02,\n",
						"         -1.4427e+01,  7.4074e+03],\n",
						"        ...,\n",
						"        [ 3.9775e+02, -1.9990e+02,  3.0909e+02,  ..., -2.1358e+02,\n",
						"         -1.8581e+02, -1.1298e+03],\n",
						"        [ 2.2006e+01, -1.1110e+01,  1.4881e+02,  ..., -1.3802e+02,\n",
						"         -1.1545e+02, -1.1734e+04],\n",
						"        [-5.3875e+02, -5.4027e+01,  6.5142e+02,  ...,  2.0387e+02,\n",
						"          3.8810e+01, -1.4787e+04]])\n",
						"score shape: torch.Size([4656, 481])\n",
						"50 torch.Size([481])\n",
						"50 torch.Size([481])\n",
						"481\n",
						"0.2500514329075106\n"
					]
				}
			],
			"source": [
				"def read_nodes(file_path):\n",
				"    int_list = []\n",
				"    with open(file_path, 'r') as csvfile:\n",
				"        csv_reader = csv.reader(csvfile)\n",
				"        for row in csv_reader:\n",
				"            for item in row:\n",
				"                try:\n",
				"                    int_list.append(int(item))\n",
				"                except ValueError:\n",
				"                    print(f\"Warning: '{item}' could not be converted to an integer and was skipped.\")\n",
				"    return int_list\n",
				"\n",
				"\n",
				"\n",
				"def calculate_one(path):\n",
				"    # score = torch.load(path, map_location=torch.device('cpu'))  # _test_0225_regroup\n",
				"    score = torch.load(path, map_location=torch.device('cpu'))\n",
				"    print(score)\n",
				"    # score = torch.rand(5000, 500)\n",
				"    print(\"score shape:\", score.shape)\n",
				"\n",
				"    nodes_str = [f\"./checkpoints/{setting}/{i}/train_index.csv\" for i in range(50)]\n",
				"    # for i in range(50):\n",
				"    #     nodes_str.append(f\"./checkpoints/{i}/train_index.csv\")\n",
				"\n",
				"    full_nodes = [i for i in range(4656)]\n",
				"\n",
				"    node_list = []\n",
				"    for node_str in nodes_str:\n",
				"        numbers = read_nodes(node_str)\n",
				"        index = []\n",
				"        for number in numbers:\n",
				"            index.append(full_nodes.index(number))\n",
				"        node_list.append(index)\n",
				"\n",
				"    loss_list = torch.load(f\"./results/{setting}/gt.pt\", map_location=torch.device('cpu')).detach()\n",
				"\n",
				"    approx_output = []\n",
				"    for i in range(len(nodes_str)):\n",
				"        score_approx_0 = score[node_list[i], :]\n",
				"        sum_0 = torch.sum(score_approx_0, axis=0)\n",
				"        approx_output.append(sum_0)\n",
				"\n",
				"    print(len(loss_list), loss_list[0].shape)\n",
				"    print(len(approx_output), approx_output[0].shape)\n",
				"\n",
				"    res = 0\n",
				"    counter = 0\n",
				"    for i in range(481):\n",
				"        tmp = spearmanr(np.array([approx_output[k][i] for k in range(len(approx_output))]),\n",
				"                        np.array([loss_list[k][i].numpy() for k in range(len(loss_list))])).statistic\n",
				"        if np.isnan(tmp):\n",
				"            print(\"Numerical issue\")\n",
				"            continue\n",
				"        res += tmp\n",
				"        counter += 1\n",
				"\n",
				"    print(counter)\n",
				"\n",
				"    return res/counter, loss_list, approx_output\n",
				"\n",
				"# path = f\"results/{setting}/IF/Linear_LayerNorm/default_SJLT_R-64(U)_thrd-0.0_randrop-0.2.pt\"\n",
				"# print(torch.load(f\"results/{setting}/IF/Linear_LayerNorm/default_SJLT_R-64(U)_thrd-0.0_randrop-0.2_profile.pt\"))\n",
				"path = \"./LoGra/gpt_influence.pt\"\n",
				"print(calculate_one(path)[0])"
			]
		},
		{
			"cell_type": "code",
			"execution_count": 4,
			"metadata": {},
			"outputs": [
				{
					"name": "stdout",
					"output_type": "stream",
					"text": [
						"tensor([[-2.6565, -2.4843, -2.9398,  ..., -2.9156, -2.9455, -3.2442],\n",
						"        [-2.6787, -2.5410, -2.9881,  ..., -2.9291, -2.9266, -3.2387],\n",
						"        [-2.6541, -2.4947, -2.9545,  ..., -2.9190, -2.9386, -3.2585],\n",
						"        ...,\n",
						"        [-2.6674, -2.5061, -2.9756,  ..., -2.9111, -2.9182, -3.2272],\n",
						"        [-2.6664, -2.5151, -2.9562,  ..., -2.9259, -2.9536, -3.2526],\n",
						"        [-2.6667, -2.5240, -2.9689,  ..., -2.9531, -2.9314, -3.2552]])\n",
						"{'score': tensor([[ -59.0004,   -4.4000,  -22.7205,  ...,  203.9437,   93.7282,\n",
						"         -101.4411],\n",
						"        [ -42.5184,   15.9472,   19.0930,  ...,   47.7053,   47.6861,\n",
						"          -28.1987],\n",
						"        [ -52.5495,   62.8531,  -10.5450,  ...,  -44.1897,  101.4645,\n",
						"          112.9300],\n",
						"        ...,\n",
						"        [ 135.3539,  -25.3235,  -66.0985,  ...,  -35.5701,   56.8760,\n",
						"           69.9570],\n",
						"        [  50.5053,   78.3168,   63.3604,  ...,   34.7661,   18.9247,\n",
						"          -23.6036],\n",
						"        [ -68.3581,    9.1142,  112.6794,  ...,  -39.9870,   56.2187,\n",
						"         -153.6979]]), 'lds': 0.12227930016397184, 'profile': {'projection': 107.61194443702698, 'gradient': 136.056800365448, 'hessian': 2.3500607013702393, 'inverse_hessian': 0.30910396575927734}}\n"
					]
				}
			],
			"source": [
				"print(torch.load(f\"./results/{setting}/gt.pt\", map_location=torch.device('cpu')))\n",
				"print(torch.load(f\"./results/{setting}/IF/Linear/default_SJLT_R-16(U)_thrd-0.0_randrop-0.0.pt\", map_location=torch.device('cpu'), weights_only=False))"
			]
		},
		{
			"cell_type": "code",
			"execution_count": null,
			"metadata": {},
			"outputs": [],
			"source": []
		}
	],
	"metadata": {
		"kernelspec": {
			"display_name": "IF",
			"language": "python",
			"name": "python3"
		},
		"language_info": {
			"codemirror_mode": {
				"name": "ipython",
				"version": 3
			},
			"file_extension": ".py",
			"mimetype": "text/x-python",
			"name": "python",
			"nbconvert_exporter": "python",
			"pygments_lexer": "ipython3",
			"version": "3.10.14"
		}
	},
	"nbformat": 4,
	"nbformat_minor": 2
}
