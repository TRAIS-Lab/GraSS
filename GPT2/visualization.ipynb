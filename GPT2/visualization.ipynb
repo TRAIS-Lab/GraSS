{
 "cells": [
  {
   "cell_type": "code",
   "execution_count": 1,
   "metadata": {},
   "outputs": [],
   "source": [
    "import torch\n",
    "import torch.nn as nn\n",
    "import os\n",
    "\n",
    "from tqdm import tqdm\n",
    "import numpy as np\n",
    "\n",
    "from scipy.stats import spearmanr\n",
    "import csv"
   ]
  },
  {
   "cell_type": "code",
   "execution_count": 2,
   "metadata": {},
   "outputs": [],
   "source": [
    "def read_nodes(file_path):\n",
    "    int_list = []\n",
    "    with open(file_path, 'r') as csvfile:\n",
    "        csv_reader = csv.reader(csvfile)\n",
    "        for row in csv_reader:\n",
    "            for item in row:\n",
    "                try:\n",
    "                    int_list.append(int(item))\n",
    "                except ValueError:\n",
    "                    print(f\"Warning: '{item}' could not be converted to an integer and was skipped.\")\n",
    "    return int_list\n",
    "\n",
    "def calculate_one(path):\n",
    "    # score = torch.load(path, map_location=torch.device('cpu'))  # _test_0225_regroup\n",
    "    score = torch.load(path, map_location=torch.device('cpu'))\n",
    "    # score = torch.rand(5000, 500)\n",
    "    print(\"score shape:\", score.shape)\n",
    "\n",
    "    nodes_str = []\n",
    "    for i in range(50):\n",
    "        nodes_str.append(f\"./checkpoints/{i}/train_index.csv\")\n",
    "\n",
    "    full_nodes = [i for i in range(4656)]\n",
    "\n",
    "    node_list = []\n",
    "    for node_str in nodes_str:\n",
    "        numbers = read_nodes(node_str)\n",
    "        index = []\n",
    "        for number in numbers:\n",
    "            index.append(full_nodes.index(number))\n",
    "        node_list.append(index)\n",
    "\n",
    "    loss_list = torch.load(\"./result/gt.pt\", map_location=torch.device('cpu')).detach()\n",
    "\n",
    "    approx_output = []\n",
    "    for i in range(len(nodes_str)):\n",
    "        score_approx_0 = score[node_list[i], :]\n",
    "        sum_0 = torch.sum(score_approx_0, axis=0)\n",
    "        approx_output.append(sum_0)\n",
    "\n",
    "    print(len(loss_list), loss_list[0].shape)\n",
    "    print(len(approx_output), approx_output[0].shape)\n",
    "\n",
    "    res = 0\n",
    "    counter = 0\n",
    "    for i in range(score.shape[1]):\n",
    "        tmp = spearmanr(np.array([approx_output[k][i] for k in range(len(approx_output))]),\n",
    "                        np.array([loss_list[k][i].numpy() for k in range(len(loss_list))])).statistic\n",
    "        if np.isnan(tmp):\n",
    "            print(\"Numerical issue\")\n",
    "            continue\n",
    "        res += tmp\n",
    "        counter += 1\n",
    "\n",
    "    print(counter)\n",
    "\n",
    "    return res/counter, loss_list, approx_output\n"
   ]
  },
  {
   "cell_type": "code",
   "execution_count": 3,
   "metadata": {},
   "outputs": [
    {
     "name": "stderr",
     "output_type": "stream",
     "text": [
      "/tmp/ipykernel_3899744/1026402471.py:15: FutureWarning: You are using `torch.load` with `weights_only=False` (the current default value), which uses the default pickle module implicitly. It is possible to construct malicious pickle data which will execute arbitrary code during unpickling (See https://github.com/pytorch/pytorch/blob/main/SECURITY.md#untrusted-models for more details). In a future release, the default value for `weights_only` will be flipped to `True`. This limits the functions that could be executed during unpickling. Arbitrary objects will no longer be allowed to be loaded via this mode unless they are explicitly allowlisted by the user via `torch.serialization.add_safe_globals`. We recommend you start setting `weights_only=True` for any use case where you don't have full control of the loaded file. Please open an issue on GitHub for any issues related to this experimental feature.\n",
      "  score = torch.load(path, map_location=torch.device('cpu'))\n"
     ]
    },
    {
     "name": "stdout",
     "output_type": "stream",
     "text": [
      "score shape: torch.Size([4, 1])\n"
     ]
    },
    {
     "name": "stderr",
     "output_type": "stream",
     "text": [
      "/tmp/ipykernel_3899744/1026402471.py:33: FutureWarning: You are using `torch.load` with `weights_only=False` (the current default value), which uses the default pickle module implicitly. It is possible to construct malicious pickle data which will execute arbitrary code during unpickling (See https://github.com/pytorch/pytorch/blob/main/SECURITY.md#untrusted-models for more details). In a future release, the default value for `weights_only` will be flipped to `True`. This limits the functions that could be executed during unpickling. Arbitrary objects will no longer be allowed to be loaded via this mode unless they are explicitly allowlisted by the user via `torch.serialization.add_safe_globals`. We recommend you start setting `weights_only=True` for any use case where you don't have full control of the loaded file. Please open an issue on GitHub for any issues related to this experimental feature.\n",
      "  loss_list = torch.load(\"./result/gt.pt\", map_location=torch.device('cpu')).detach()\n"
     ]
    },
    {
     "ename": "IndexError",
     "evalue": "index 3155 is out of bounds for dimension 0 with size 4",
     "output_type": "error",
     "traceback": [
      "\u001b[0;31m---------------------------------------------------------------------------\u001b[0m",
      "\u001b[0;31mIndexError\u001b[0m                                Traceback (most recent call last)",
      "Cell \u001b[0;32mIn[3], line 2\u001b[0m\n\u001b[1;32m      1\u001b[0m path \u001b[38;5;241m=\u001b[39m \u001b[38;5;124m\"\u001b[39m\u001b[38;5;124m./result/score.pt\u001b[39m\u001b[38;5;124m\"\u001b[39m\n\u001b[0;32m----> 2\u001b[0m \u001b[38;5;28mprint\u001b[39m(\u001b[43mcalculate_one\u001b[49m\u001b[43m(\u001b[49m\u001b[43mpath\u001b[49m\u001b[43m)\u001b[49m[\u001b[38;5;241m0\u001b[39m])\n",
      "Cell \u001b[0;32mIn[2], line 37\u001b[0m, in \u001b[0;36mcalculate_one\u001b[0;34m(path)\u001b[0m\n\u001b[1;32m     35\u001b[0m approx_output \u001b[38;5;241m=\u001b[39m []\n\u001b[1;32m     36\u001b[0m \u001b[38;5;28;01mfor\u001b[39;00m i \u001b[38;5;129;01min\u001b[39;00m \u001b[38;5;28mrange\u001b[39m(\u001b[38;5;28mlen\u001b[39m(nodes_str)):\n\u001b[0;32m---> 37\u001b[0m     score_approx_0 \u001b[38;5;241m=\u001b[39m \u001b[43mscore\u001b[49m\u001b[43m[\u001b[49m\u001b[43mnode_list\u001b[49m\u001b[43m[\u001b[49m\u001b[43mi\u001b[49m\u001b[43m]\u001b[49m\u001b[43m,\u001b[49m\u001b[43m \u001b[49m\u001b[43m:\u001b[49m\u001b[43m]\u001b[49m\n\u001b[1;32m     38\u001b[0m     sum_0 \u001b[38;5;241m=\u001b[39m torch\u001b[38;5;241m.\u001b[39msum(score_approx_0, axis\u001b[38;5;241m=\u001b[39m\u001b[38;5;241m0\u001b[39m)\n\u001b[1;32m     39\u001b[0m     approx_output\u001b[38;5;241m.\u001b[39mappend(sum_0)\n",
      "\u001b[0;31mIndexError\u001b[0m: index 3155 is out of bounds for dimension 0 with size 4"
     ]
    }
   ],
   "source": [
    "path = \"./result/score.pt\"\n",
    "print(calculate_one(path)[0])"
   ]
  },
  {
   "cell_type": "code",
   "execution_count": 4,
   "metadata": {},
   "outputs": [
    {
     "name": "stdout",
     "output_type": "stream",
     "text": [
      "score shape: torch.Size([100, 10])\n",
      "tensor([20.5490, 28.3675, 27.1684, 22.0018])\n"
     ]
    },
    {
     "name": "stderr",
     "output_type": "stream",
     "text": [
      "/tmp/ipykernel_3899744/1346549292.py:1: FutureWarning: You are using `torch.load` with `weights_only=False` (the current default value), which uses the default pickle module implicitly. It is possible to construct malicious pickle data which will execute arbitrary code during unpickling (See https://github.com/pytorch/pytorch/blob/main/SECURITY.md#untrusted-models for more details). In a future release, the default value for `weights_only` will be flipped to `True`. This limits the functions that could be executed during unpickling. Arbitrary objects will no longer be allowed to be loaded via this mode unless they are explicitly allowlisted by the user via `torch.serialization.add_safe_globals`. We recommend you start setting `weights_only=True` for any use case where you don't have full control of the loaded file. Please open an issue on GitHub for any issues related to this experimental feature.\n",
      "  score = torch.load('./result/score_FJLT-512.pt', map_location=torch.device('cpu'))\n"
     ]
    }
   ],
   "source": [
    "score = torch.load('./result/score_FJLT-512.pt', map_location=torch.device('cpu'))\n",
    "# score = torch.rand(5000, 500)\n",
    "print(\"score shape:\", score.shape)\n",
    "print(score[0:4, 0])"
   ]
  },
  {
   "cell_type": "code",
   "execution_count": 5,
   "metadata": {},
   "outputs": [
    {
     "name": "stdout",
     "output_type": "stream",
     "text": [
      "score shape: torch.Size([100, 10])\n",
      "tensor([20.5487, 28.3678, 27.1683, 22.0017])\n"
     ]
    },
    {
     "name": "stderr",
     "output_type": "stream",
     "text": [
      "/tmp/ipykernel_3899744/669972308.py:1: FutureWarning: You are using `torch.load` with `weights_only=False` (the current default value), which uses the default pickle module implicitly. It is possible to construct malicious pickle data which will execute arbitrary code during unpickling (See https://github.com/pytorch/pytorch/blob/main/SECURITY.md#untrusted-models for more details). In a future release, the default value for `weights_only` will be flipped to `True`. This limits the functions that could be executed during unpickling. Arbitrary objects will no longer be allowed to be loaded via this mode unless they are explicitly allowlisted by the user via `torch.serialization.add_safe_globals`. We recommend you start setting `weights_only=True` for any use case where you don't have full control of the loaded file. Please open an issue on GitHub for any issues related to this experimental feature.\n",
      "  score = torch.load('./result/score_FJLT-512_threshold-1e-07.pt', map_location=torch.device('cpu'))\n"
     ]
    }
   ],
   "source": [
    "score = torch.load('./result/score_FJLT-512_threshold-1e-07.pt', map_location=torch.device('cpu'))\n",
    "# score = torch.rand(5000, 500)\n",
    "print(\"score shape:\", score.shape)\n",
    "print(score[0:4, 0])"
   ]
  },
  {
   "cell_type": "code",
   "execution_count": 6,
   "metadata": {},
   "outputs": [
    {
     "name": "stdout",
     "output_type": "stream",
     "text": [
      "score shape: torch.Size([4, 1])\n",
      "tensor([[0.0656],\n",
      "        [0.0806],\n",
      "        [0.0821],\n",
      "        [0.0708]])\n"
     ]
    },
    {
     "name": "stderr",
     "output_type": "stream",
     "text": [
      "/tmp/ipykernel_3899744/818564332.py:1: FutureWarning: You are using `torch.load` with `weights_only=False` (the current default value), which uses the default pickle module implicitly. It is possible to construct malicious pickle data which will execute arbitrary code during unpickling (See https://github.com/pytorch/pytorch/blob/main/SECURITY.md#untrusted-models for more details). In a future release, the default value for `weights_only` will be flipped to `True`. This limits the functions that could be executed during unpickling. Arbitrary objects will no longer be allowed to be loaded via this mode unless they are explicitly allowlisted by the user via `torch.serialization.add_safe_globals`. We recommend you start setting `weights_only=True` for any use case where you don't have full control of the loaded file. Please open an issue on GitHub for any issues related to this experimental feature.\n",
      "  score = torch.load('./result/score_FJLT-512_GIP.pt', map_location=torch.device('cpu'))\n"
     ]
    }
   ],
   "source": [
    "score = torch.load('./result/score_FJLT-512_GIP.pt', map_location=torch.device('cpu'))\n",
    "# score = torch.rand(5000, 500)\n",
    "print(\"score shape:\", score.shape)\n",
    "print(score)"
   ]
  },
  {
   "cell_type": "code",
   "execution_count": 7,
   "metadata": {},
   "outputs": [
    {
     "name": "stdout",
     "output_type": "stream",
     "text": [
      "score shape: torch.Size([4, 1])\n",
      "tensor([[-0.0019],\n",
      "        [ 0.0029],\n",
      "        [ 0.0151],\n",
      "        [ 0.0002]])\n"
     ]
    },
    {
     "name": "stderr",
     "output_type": "stream",
     "text": [
      "/tmp/ipykernel_3899744/2181850493.py:1: FutureWarning: You are using `torch.load` with `weights_only=False` (the current default value), which uses the default pickle module implicitly. It is possible to construct malicious pickle data which will execute arbitrary code during unpickling (See https://github.com/pytorch/pytorch/blob/main/SECURITY.md#untrusted-models for more details). In a future release, the default value for `weights_only` will be flipped to `True`. This limits the functions that could be executed during unpickling. Arbitrary objects will no longer be allowed to be loaded via this mode unless they are explicitly allowlisted by the user via `torch.serialization.add_safe_globals`. We recommend you start setting `weights_only=True` for any use case where you don't have full control of the loaded file. Please open an issue on GitHub for any issues related to this experimental feature.\n",
      "  score = torch.load('./result/score.pt', map_location=torch.device('cpu'))\n"
     ]
    }
   ],
   "source": [
    "score = torch.load('./result/score.pt', map_location=torch.device('cpu'))\n",
    "# score = torch.rand(5000, 500)\n",
    "print(\"score shape:\", score.shape)\n",
    "print(score)"
   ]
  },
  {
   "cell_type": "code",
   "execution_count": 8,
   "metadata": {},
   "outputs": [
    {
     "data": {
      "text/plain": [
       "array([0.0338    , 0.04152866, 0.04230152, 0.36479268])"
      ]
     },
     "execution_count": 8,
     "metadata": {},
     "output_type": "execute_result"
    }
   ],
   "source": [
    "x = np.array([0.0656, 0.0806, 0.0821, 0.708])\n",
    "\n",
    "x * (0.0338 / 0.0656)"
   ]
  }
 ],
 "metadata": {
  "kernelspec": {
   "display_name": "IF",
   "language": "python",
   "name": "python3"
  },
  "language_info": {
   "codemirror_mode": {
    "name": "ipython",
    "version": 3
   },
   "file_extension": ".py",
   "mimetype": "text/x-python",
   "name": "python",
   "nbconvert_exporter": "python",
   "pygments_lexer": "ipython3",
   "version": "3.10.14"
  }
 },
 "nbformat": 4,
 "nbformat_minor": 2
}
