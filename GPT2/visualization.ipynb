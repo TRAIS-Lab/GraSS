{
 "cells": [
  {
   "cell_type": "code",
   "execution_count": 2,
   "metadata": {},
   "outputs": [],
   "source": [
    "import torch\n",
    "import torch.nn as nn\n",
    "import os\n",
    "\n",
    "from tqdm import tqdm\n",
    "import numpy as np\n",
    "\n",
    "from scipy.stats import spearmanr\n",
    "import csv"
   ]
  },
  {
   "cell_type": "code",
   "execution_count": null,
   "metadata": {},
   "outputs": [],
   "source": [
    "def read_nodes(file_path):\n",
    "    int_list = []\n",
    "    with open(file_path, 'r') as csvfile:\n",
    "        csv_reader = csv.reader(csvfile)\n",
    "        for row in csv_reader:\n",
    "            for item in row:\n",
    "                try:\n",
    "                    int_list.append(int(item))\n",
    "                except ValueError:\n",
    "                    print(f\"Warning: '{item}' could not be converted to an integer and was skipped.\")\n",
    "    return int_list\n",
    "\n",
    "def calculate_one(path):\n",
    "    # score = torch.load(path, map_location=torch.device('cpu'))  # _test_0225_regroup\n",
    "    score = torch.load(path, map_location=torch.device('cpu'))\n",
    "    # score = torch.rand(5000, 500)\n",
    "    print(\"score shape:\", score.shape)\n",
    "\n",
    "    nodes_str = []\n",
    "    for i in range(50):\n",
    "        nodes_str.append(f\"./checkpoints/{i}/train_index.csv\")\n",
    "\n",
    "    full_nodes = [i for i in range(4656)]\n",
    "\n",
    "    node_list = []\n",
    "    for node_str in nodes_str:\n",
    "        numbers = read_nodes(node_str)\n",
    "        index = []\n",
    "        for number in numbers:\n",
    "            index.append(full_nodes.index(number))\n",
    "        node_list.append(index)\n",
    "\n",
    "    loss_list = torch.load(\"./result/gt.pt\", map_location=torch.device('cpu')).detach()\n",
    "\n",
    "    approx_output = []\n",
    "    for i in range(len(nodes_str)):\n",
    "        score_approx_0 = score[node_list[i], :]\n",
    "        sum_0 = torch.sum(score_approx_0, axis=0)\n",
    "        approx_output.append(sum_0)\n",
    "\n",
    "    print(len(loss_list), loss_list[0].shape)\n",
    "    print(len(approx_output), approx_output[0].shape)\n",
    "\n",
    "    res = 0\n",
    "    counter = 0\n",
    "    for i in range(score.shape[1]):\n",
    "        tmp = spearmanr(np.array([approx_output[k][i] for k in range(len(approx_output))]),\n",
    "                        np.array([loss_list[k][i].numpy() for k in range(len(loss_list))])).statistic\n",
    "        if np.isnan(tmp):\n",
    "            print(\"Numerical issue\")\n",
    "            continue\n",
    "        res += tmp\n",
    "        counter += 1\n",
    "\n",
    "    print(counter)\n",
    "\n",
    "    return res/counter, loss_list, approx_output\n"
   ]
  },
  {
   "cell_type": "code",
   "execution_count": null,
   "metadata": {},
   "outputs": [],
   "source": [
    "path = \"./result/score.pt\"\n",
    "print(calculate_one(path)[0])"
   ]
  },
  {
   "cell_type": "code",
   "execution_count": 9,
   "metadata": {},
   "outputs": [
    {
     "name": "stdout",
     "output_type": "stream",
     "text": [
      "score shape: torch.Size([100, 10])\n",
      "tensor([20.5490, 28.3675, 27.1684, 22.0018])\n"
     ]
    },
    {
     "name": "stderr",
     "output_type": "stream",
     "text": [
      "/tmp/ipykernel_3868980/1346549292.py:1: FutureWarning: You are using `torch.load` with `weights_only=False` (the current default value), which uses the default pickle module implicitly. It is possible to construct malicious pickle data which will execute arbitrary code during unpickling (See https://github.com/pytorch/pytorch/blob/main/SECURITY.md#untrusted-models for more details). In a future release, the default value for `weights_only` will be flipped to `True`. This limits the functions that could be executed during unpickling. Arbitrary objects will no longer be allowed to be loaded via this mode unless they are explicitly allowlisted by the user via `torch.serialization.add_safe_globals`. We recommend you start setting `weights_only=True` for any use case where you don't have full control of the loaded file. Please open an issue on GitHub for any issues related to this experimental feature.\n",
      "  score = torch.load('./result/score_FJLT-512.pt', map_location=torch.device('cpu'))\n"
     ]
    }
   ],
   "source": [
    "score = torch.load('./result/score_FJLT-512.pt', map_location=torch.device('cpu'))\n",
    "# score = torch.rand(5000, 500)\n",
    "print(\"score shape:\", score.shape)\n",
    "print(score[0:4, 0])"
   ]
  },
  {
   "cell_type": "code",
   "execution_count": 8,
   "metadata": {},
   "outputs": [
    {
     "name": "stdout",
     "output_type": "stream",
     "text": [
      "score shape: torch.Size([100, 10])\n",
      "tensor([20.5487, 28.3678, 27.1683, 22.0017])\n"
     ]
    },
    {
     "name": "stderr",
     "output_type": "stream",
     "text": [
      "/tmp/ipykernel_3868980/669972308.py:1: FutureWarning: You are using `torch.load` with `weights_only=False` (the current default value), which uses the default pickle module implicitly. It is possible to construct malicious pickle data which will execute arbitrary code during unpickling (See https://github.com/pytorch/pytorch/blob/main/SECURITY.md#untrusted-models for more details). In a future release, the default value for `weights_only` will be flipped to `True`. This limits the functions that could be executed during unpickling. Arbitrary objects will no longer be allowed to be loaded via this mode unless they are explicitly allowlisted by the user via `torch.serialization.add_safe_globals`. We recommend you start setting `weights_only=True` for any use case where you don't have full control of the loaded file. Please open an issue on GitHub for any issues related to this experimental feature.\n",
      "  score = torch.load('./result/score_FJLT-512_threshold-1e-07.pt', map_location=torch.device('cpu'))\n"
     ]
    }
   ],
   "source": [
    "score = torch.load('./result/score_FJLT-512_threshold-1e-07.pt', map_location=torch.device('cpu'))\n",
    "# score = torch.rand(5000, 500)\n",
    "print(\"score shape:\", score.shape)\n",
    "print(score[0:4, 0])"
   ]
  },
  {
   "cell_type": "code",
   "execution_count": 10,
   "metadata": {},
   "outputs": [
    {
     "name": "stdout",
     "output_type": "stream",
     "text": [
      "score shape: torch.Size([4, 1])\n",
      "tensor([[0.0656],\n",
      "        [0.0806],\n",
      "        [0.0821],\n",
      "        [0.0708]])\n"
     ]
    },
    {
     "name": "stderr",
     "output_type": "stream",
     "text": [
      "/tmp/ipykernel_3868980/818564332.py:1: FutureWarning: You are using `torch.load` with `weights_only=False` (the current default value), which uses the default pickle module implicitly. It is possible to construct malicious pickle data which will execute arbitrary code during unpickling (See https://github.com/pytorch/pytorch/blob/main/SECURITY.md#untrusted-models for more details). In a future release, the default value for `weights_only` will be flipped to `True`. This limits the functions that could be executed during unpickling. Arbitrary objects will no longer be allowed to be loaded via this mode unless they are explicitly allowlisted by the user via `torch.serialization.add_safe_globals`. We recommend you start setting `weights_only=True` for any use case where you don't have full control of the loaded file. Please open an issue on GitHub for any issues related to this experimental feature.\n",
      "  score = torch.load('./result/score_FJLT-512_GIP.pt', map_location=torch.device('cpu'))\n"
     ]
    }
   ],
   "source": [
    "score = torch.load('./result/score_FJLT-512_GIP.pt', map_location=torch.device('cpu'))\n",
    "# score = torch.rand(5000, 500)\n",
    "print(\"score shape:\", score.shape)\n",
    "print(score)"
   ]
  },
  {
   "cell_type": "code",
   "execution_count": 15,
   "metadata": {},
   "outputs": [
    {
     "name": "stdout",
     "output_type": "stream",
     "text": [
      "score shape: torch.Size([4, 1])\n",
      "tensor([[0.0338],\n",
      "        [0.0506],\n",
      "        [0.0566],\n",
      "        [0.0365]])\n"
     ]
    },
    {
     "name": "stderr",
     "output_type": "stream",
     "text": [
      "/tmp/ipykernel_3868980/2181850493.py:1: FutureWarning: You are using `torch.load` with `weights_only=False` (the current default value), which uses the default pickle module implicitly. It is possible to construct malicious pickle data which will execute arbitrary code during unpickling (See https://github.com/pytorch/pytorch/blob/main/SECURITY.md#untrusted-models for more details). In a future release, the default value for `weights_only` will be flipped to `True`. This limits the functions that could be executed during unpickling. Arbitrary objects will no longer be allowed to be loaded via this mode unless they are explicitly allowlisted by the user via `torch.serialization.add_safe_globals`. We recommend you start setting `weights_only=True` for any use case where you don't have full control of the loaded file. Please open an issue on GitHub for any issues related to this experimental feature.\n",
      "  score = torch.load('./result/score.pt', map_location=torch.device('cpu'))\n"
     ]
    }
   ],
   "source": [
    "score = torch.load('./result/score.pt', map_location=torch.device('cpu'))\n",
    "# score = torch.rand(5000, 500)\n",
    "print(\"score shape:\", score.shape)\n",
    "print(score)"
   ]
  },
  {
   "cell_type": "code",
   "execution_count": 14,
   "metadata": {},
   "outputs": [
    {
     "data": {
      "text/plain": [
       "array([0.0338    , 0.04152866, 0.04230152, 0.36479268])"
      ]
     },
     "execution_count": 14,
     "metadata": {},
     "output_type": "execute_result"
    }
   ],
   "source": [
    "x = np.array([0.0656, 0.0806, 0.0821, 0.708])\n",
    "\n",
    "x * (0.0338 / 0.0656)"
   ]
  },
  {
   "cell_type": "code",
   "execution_count": 16,
   "metadata": {},
   "outputs": [
    {
     "name": "stdout",
     "output_type": "stream",
     "text": [
      "Total number of parameters: 123614976\n"
     ]
    }
   ],
   "source": [
    "import re\n",
    "\n",
    "def compute_total_parameters(layers_string):\n",
    "    # Regular expression to extract in_features, out_features, and bias information\n",
    "    pattern = r'GCLinear\\(in_features=(\\d+), out_features=(\\d+), bias=(\\w+)\\)'\n",
    "    matches = re.findall(pattern, layers_string)\n",
    "\n",
    "    total_parameters = 0\n",
    "    for in_features, out_features, bias in matches:\n",
    "        in_features = int(in_features)\n",
    "        out_features = int(out_features)\n",
    "        # Compute the parameters for weights\n",
    "        params = in_features * out_features\n",
    "        # Add bias parameters if bias=True\n",
    "        if bias == \"True\":\n",
    "            params += out_features\n",
    "        total_parameters += params\n",
    "\n",
    "    return total_parameters\n",
    "\n",
    "# Example usage\n",
    "layers_string = \"Trainable layers: [GCLinear(in_features=768, out_features=50257, bias=False), GCLinear(in_features=768, out_features=2304, bias=True), GCLinear(in_features=768, out_features=768, bias=True), GCLinear(in_features=768, out_features=3072, bias=True), GCLinear(in_features=3072, out_features=768, bias=True), GCLinear(in_features=768, out_features=2304, bias=True), GCLinear(in_features=768, out_features=768, bias=True), GCLinear(in_features=768, out_features=3072, bias=True), GCLinear(in_features=3072, out_features=768, bias=True), GCLinear(in_features=768, out_features=2304, bias=True), GCLinear(in_features=768, out_features=768, bias=True), GCLinear(in_features=768, out_features=3072, bias=True), GCLinear(in_features=3072, out_features=768, bias=True), GCLinear(in_features=768, out_features=2304, bias=True), GCLinear(in_features=768, out_features=768, bias=True), GCLinear(in_features=768, out_features=3072, bias=True), GCLinear(in_features=3072, out_features=768, bias=True), GCLinear(in_features=768, out_features=2304, bias=True), GCLinear(in_features=768, out_features=768, bias=True), GCLinear(in_features=768, out_features=3072, bias=True), GCLinear(in_features=3072, out_features=768, bias=True), GCLinear(in_features=768, out_features=2304, bias=True), GCLinear(in_features=768, out_features=768, bias=True), GCLinear(in_features=768, out_features=3072, bias=True), GCLinear(in_features=3072, out_features=768, bias=True), GCLinear(in_features=768, out_features=2304, bias=True), GCLinear(in_features=768, out_features=768, bias=True), GCLinear(in_features=768, out_features=3072, bias=True), GCLinear(in_features=3072, out_features=768, bias=True), GCLinear(in_features=768, out_features=2304, bias=True), GCLinear(in_features=768, out_features=768, bias=True), GCLinear(in_features=768, out_features=3072, bias=True), GCLinear(in_features=3072, out_features=768, bias=True), GCLinear(in_features=768, out_features=2304, bias=True), GCLinear(in_features=768, out_features=768, bias=True), GCLinear(in_features=768, out_features=3072, bias=True), GCLinear(in_features=3072, out_features=768, bias=True), GCLinear(in_features=768, out_features=2304, bias=True), GCLinear(in_features=768, out_features=768, bias=True), GCLinear(in_features=768, out_features=3072, bias=True), GCLinear(in_features=3072, out_features=768, bias=True), GCLinear(in_features=768, out_features=2304, bias=True), GCLinear(in_features=768, out_features=768, bias=True), GCLinear(in_features=768, out_features=3072, bias=True), GCLinear(in_features=3072, out_features=768, bias=True), GCLinear(in_features=768, out_features=2304, bias=True), GCLinear(in_features=768, out_features=768, bias=True), GCLinear(in_features=768, out_features=3072, bias=True), GCLinear(in_features=3072, out_features=768, bias=True)]\"\n",
    "\n",
    "total_params = compute_total_parameters(layers_string)\n",
    "print(f\"Total number of parameters: {total_params}\")"
   ]
  },
  {
   "cell_type": "code",
   "execution_count": 17,
   "metadata": {},
   "outputs": [
    {
     "data": {
      "text/plain": [
       "39422208"
      ]
     },
     "execution_count": 17,
     "metadata": {},
     "output_type": "execute_result"
    }
   ],
   "source": [
    "163037184 - 123614976"
   ]
  },
  {
   "cell_type": "code",
   "execution_count": null,
   "metadata": {},
   "outputs": [],
   "source": []
  }
 ],
 "metadata": {
  "kernelspec": {
   "display_name": "IF",
   "language": "python",
   "name": "python3"
  },
  "language_info": {
   "codemirror_mode": {
    "name": "ipython",
    "version": 3
   },
   "file_extension": ".py",
   "mimetype": "text/x-python",
   "name": "python",
   "nbconvert_exporter": "python",
   "pygments_lexer": "ipython3",
   "version": "3.10.14"
  }
 },
 "nbformat": 4,
 "nbformat_minor": 2
}
